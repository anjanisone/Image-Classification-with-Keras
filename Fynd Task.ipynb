{
 "cells": [
  {
   "cell_type": "markdown",
   "metadata": {},
   "source": [
    "# Creating a Model and Running the Training Steps"
   ]
  },
  {
   "cell_type": "code",
   "execution_count": null,
   "metadata": {
    "scrolled": true
   },
   "outputs": [],
   "source": [
    "#-------Loading Necessary Packages----------#\n",
    "from keras.preprocessing.image import ImageDataGenerator,load_img,img_to_array\n",
    "from keras.models import Sequential,load_model\n",
    "\n",
    "import os\n",
    "from keras.layers import Conv2D, MaxPooling2D\n",
    "from keras.layers import Activation, Dropout, Flatten, Dense\n",
    "from keras import backend as K\n",
    "#from keras import callbacks\n",
    "#from PIL.Image import image\n",
    "\n",
    "\n",
    "# dimensions of our images.\n",
    "img_width, img_height = 360, 563\n",
    "#----Splitting the Training Data into Validation Data and Training Data and providing Necessary Parameters\n",
    "train_data_dir = (\"images/Train Directory\")\n",
    "validation_data_dir = (\"images/Train Directory/\")\n",
    "nb_train_samples = 3370\n",
    "nb_validation_samples = 3370\n",
    "epochs = 20\n",
    "batch_size = 16\n",
    "classes_num = 13\n",
    "\n",
    "if K.image_data_format() == 'channels_first':\n",
    "    input_shape = (3, img_width, img_height)\n",
    "else:\n",
    "    input_shape = (img_width, img_height, 3)\n",
    "\n",
    "model = Sequential()\n",
    "model.add(Conv2D(32, (3, 3), input_shape=input_shape))\n",
    "model.add(Activation('relu'))\n",
    "model.add(MaxPooling2D(pool_size=(2, 2)))\n",
    "\n",
    "model.add(Conv2D(64, (3, 3)))\n",
    "model.add(Activation('relu'))\n",
    "model.add(MaxPooling2D(pool_size=(2, 2)))\n",
    "\n",
    "model.add(Conv2D(64, (3, 3)))\n",
    "model.add(Activation('relu'))\n",
    "model.add(MaxPooling2D(pool_size=(2, 2)))\n",
    "\n",
    "model.add(Flatten())\n",
    "model.add(Dense(256))\n",
    "model.add(Activation('relu'))\n",
    "model.add(Dropout(0.5))\n",
    "model.add(Dense(1))\n",
    "model.add(Dense(classes_num, activation='softmax'))\n",
    "\n",
    "model.compile(loss='binary_crossentropy',\n",
    "              optimizer='adam',\n",
    "              metrics=['accuracy'])\n",
    "\n",
    "# this is the augmentation configuration we will use for training\n",
    "train_datagen = ImageDataGenerator(\n",
    "    rescale=1. / 255,\n",
    "    shear_range=0.2,\n",
    "    zoom_range=0.2,\n",
    "    horizontal_flip=True)\n",
    "\n",
    "# this is the augmentation configuration we will use for testing:\n",
    "# only rescaling\n",
    "test_datagen = ImageDataGenerator(rescale=1. / 255)\n",
    "\n",
    "train_generator = train_datagen.flow_from_directory(\n",
    "    train_data_dir,\n",
    "    target_size=(img_width, img_height),\n",
    "    batch_size=batch_size,\n",
    "    class_mode='categorical')\n",
    "\n",
    "validation_generator = test_datagen.flow_from_directory(\n",
    "    validation_data_dir,\n",
    "    target_size=(img_width, img_height),\n",
    "    batch_size=batch_size,\n",
    "    class_mode='categorical')\n",
    "\n",
    "\"\"\"\n",
    "Tensorboard log\n",
    "\"\"\"\n",
    "log_dir = './tf-log/'\n",
    "\n",
    "\n",
    "model.fit_generator(\n",
    "    train_generator,\n",
    "    steps_per_epoch=nb_train_samples // batch_size,\n",
    "    epochs=epochs,\n",
    "    validation_data=validation_generator,\n",
    "    validation_steps=nb_validation_samples //batch_size)\n",
    "\n"
   ]
  },
  {
   "cell_type": "code",
   "execution_count": null,
   "metadata": {},
   "outputs": [],
   "source": [
    "target_dir = './models/'\n",
    "if not os.path.exists(target_dir):\n",
    "  os.mkdir(target_dir)\n",
    "model.save('./models/model.h5')\n",
    "model.save_weights('./models/weights.h5')"
   ]
  },
  {
   "cell_type": "code",
   "execution_count": null,
   "metadata": {
    "scrolled": true
   },
   "outputs": [],
   "source": [
    "import numpy as np\n",
    "from sklearn.metrics import classification_report,confusion_matrix\n",
    "#Confution Matrix and Classification Report\n",
    "Y_pred = model.predict_generator(validation_generator, nb_validation_samples // batch_size+1)\n",
    "y_pred = np.argmax(Y_pred, axis=1)\n",
    "print('Confusion Matrix')\n",
    "print(confusion_matrix(validation_generator.classes, y_pred))\n",
    "print('Classification Report')\n",
    "target_names = ['abstract','Checked','Colourblock','floral','graphic','Melange','Patterned','polka dots','Predicted','Printed','solid','striped','typography']\n",
    "print(classification_report(validation_generator.classes, y_pred, target_names=target_names))"
   ]
  },
  {
   "cell_type": "code",
   "execution_count": null,
   "metadata": {},
   "outputs": [],
   "source": [
    "cm = (confusion_matrix(validation_generator.classes, y_pred))\n",
    "import matplotlib.pyplot as plt\n",
    "import itertools\n",
    "def plot_confusion_matrix(cm, classes,\n",
    "                          normalize=False,\n",
    "                          title='Confusion matrix',\n",
    "                          cmap=plt.cm.Blues):\n",
    "    \"\"\"\n",
    "    This function prints and plots the confusion matrix.\n",
    "    Normalization can be applied by setting `normalize=True`.\n",
    "    \"\"\"\n",
    "    if normalize:\n",
    "        cm = cm.astype('float') / cm.sum(axis=1)[:, np.newaxis]\n",
    "        print(\"Normalized confusion matrix\")\n",
    "    else:\n",
    "        print('Confusion matrix, without normalization')\n",
    "\n",
    "    print(cm)\n",
    "\n",
    "    plt.imshow(cm, interpolation='nearest', cmap=cmap)\n",
    "    plt.title(title)\n",
    "    plt.colorbar()\n",
    "    tick_marks = np.arange(len(classes))\n",
    "    plt.xticks(tick_marks, classes, rotation=45)\n",
    "    plt.yticks(tick_marks, classes)\n",
    "\n",
    "    fmt = '.2f' if normalize else 'd'\n",
    "    thresh = cm.max() / 2.\n",
    "    for i, j in itertools.product(range(cm.shape[0]), range(cm.shape[1])):\n",
    "        plt.text(j, i, format(cm[i, j], fmt),\n",
    "                 horizontalalignment=\"center\",\n",
    "                 color=\"white\" if cm[i, j] > thresh else \"black\")\n",
    "\n",
    "    plt.tight_layout()\n",
    "    plt.ylabel('True label')\n",
    "    plt.xlabel('Predicted label')"
   ]
  },
  {
   "cell_type": "code",
   "execution_count": null,
   "metadata": {},
   "outputs": [],
   "source": [
    "import itertools\n",
    "cm_plot_labels = ['abstract','Checked','Colourblock','floral','graphic','Melange','Patterned','polka dots','Predicted','Printed','solid','striped','typography']\n",
    "plot_confusion_matrix(cm,cm_plot_labels,title=\"Confusion Matrix for Fynd\")"
   ]
  },
  {
   "cell_type": "code",
   "execution_count": null,
   "metadata": {},
   "outputs": [],
   "source": [
    "def predict(file):\n",
    "  x = load_img(file, target_size=(img_width,img_height))\n",
    "  x = img_to_array(x)\n",
    "  x = np.expand_dims(x, axis=0)\n",
    "  array = model.predict(x)\n",
    "  result = array[0]\n",
    "  answer = np.argmax(result)\n",
    "  if answer == 0:  \n",
    "    print(\"abstract\")\n",
    "  elif answer ==1:\n",
    "    print(\"Checked\")\n",
    "  elif answer ==2:\n",
    "    print(\"ColourBlock\")\n",
    "  elif answer ==3:\n",
    "    print(\"floral\")\n",
    "  elif answer ==4:\n",
    "    print(\"graphic\")\n",
    "  elif answer ==5:\n",
    "    print(\"Melange\")\n",
    "  elif answer ==6:\n",
    "    print(\"Patterned\")\n",
    "  elif answer ==7:\n",
    "    print(\"polka dots\")\n",
    "  elif answer ==8:\n",
    "    print(\"Predicted\")\n",
    "  elif answer ==9:\n",
    "    print(\"Printed\")\n",
    "  elif answer ==10:\n",
    "    print(\"solid\")\n",
    "  elif answer ==11:\n",
    "    print(\"striped\")\n",
    "  elif answer ==12:\n",
    "    print(\"typography\")\n",
    "\n",
    "  return answer"
   ]
  },
  {
   "cell_type": "code",
   "execution_count": null,
   "metadata": {},
   "outputs": [],
   "source": [
    "import pandas as pd\n",
    "output = pd.DataFrame(columns = ['Image','Predicted_Category','Category_Name'])\n",
    "\n",
    "Images = []\n",
    "category = []\n",
    "\n",
    "for file in os.listdir('./images/Test Directory/'):\n",
    "    Images.append('./images/Test Directory/'+ file)\n",
    "    the_category = (predict('./images/Test Directory/'+ file))\n",
    "    category.append(the_category)\n",
    "    \n",
    "output['Image'] = Images\n",
    "output['Predicted_Category'] = category"
   ]
  },
  {
   "cell_type": "code",
   "execution_count": null,
   "metadata": {
    "scrolled": true
   },
   "outputs": [],
   "source": [
    "for i in range(len(output)):\n",
    "    if output['Predicted_Category'][i] == 0:\n",
    "        output['Category_Name'][i] = 'abstract'\n",
    "    elif output['Predicted_Category'][i] ==1:\n",
    "        output['Category_Name'][i] = \"Checked\"\n",
    "    elif output['Predicted_Category'][i] ==2:\n",
    "        output['Category_Name'][i] = \"ColourBlock\"\n",
    "    elif output['Predicted_Category'][i] ==3:\n",
    "        output['Category_Name'][i] = \"floral\"\n",
    "    elif output['Predicted_Category'][i] ==4:\n",
    "        output['Category_Name'][i] = \"graphic\"\n",
    "    elif output['Predicted_Category'][i] ==5:\n",
    "        output['Category_Name'][i] = \"Melange\"\n",
    "    elif output['Predicted_Category'][i] ==6:\n",
    "        output['Category_Name'][i] = \"Patterned\"\n",
    "    elif output['Predicted_Category'][i] ==7:\n",
    "        output['Category_Name'][i] = \"polka dots\"\n",
    "    elif output['Predicted_Category'][i] ==8:\n",
    "        output['Category_Name'][i] = \"Predicted\"\n",
    "    elif output['Predicted_Category'][i] ==9:\n",
    "        output['Category_Name'][i] = \"Printed\"\n",
    "    elif output['Predicted_Category'][i] ==10:\n",
    "        output['Category_Name'][i] = \"solid\"\n",
    "    elif output['Predicted_Category'][i] ==11:\n",
    "        output['Category_Name'][i] = \"striped\"\n",
    "    elif output['Predicted_Category'][i] ==12:\n",
    "        output['Category_Name'][i] = \"typography\"\n",
    "        "
   ]
  },
  {
   "cell_type": "code",
   "execution_count": null,
   "metadata": {},
   "outputs": [],
   "source": [
    "output"
   ]
  },
  {
   "cell_type": "code",
   "execution_count": null,
   "metadata": {},
   "outputs": [],
   "source": [
    "output.to_csv('test_result.csv')"
   ]
  },
  {
   "cell_type": "code",
   "execution_count": null,
   "metadata": {},
   "outputs": [],
   "source": [
    "score= model.evaluate_generator(validation_generator,nb_validation_samples // batch_size, workers=1)"
   ]
  },
  {
   "cell_type": "code",
   "execution_count": null,
   "metadata": {},
   "outputs": [],
   "source": [
    "accuracy = score[1]"
   ]
  },
  {
   "cell_type": "code",
   "execution_count": null,
   "metadata": {},
   "outputs": [],
   "source": [
    "print(\"The model predicted at an accuracy of:\",accuracy)\n",
    "print(\"The model predicted with an loss of:\",score[0])"
   ]
  },
  {
   "cell_type": "code",
   "execution_count": null,
   "metadata": {},
   "outputs": [],
   "source": [
    "predict(\"./images/Train Directory/abstract/66081.jpg\")"
   ]
  }
 ],
 "metadata": {
  "kernelspec": {
   "display_name": "Python 3",
   "language": "python",
   "name": "python3"
  },
  "language_info": {
   "codemirror_mode": {
    "name": "ipython",
    "version": 3
   },
   "file_extension": ".py",
   "mimetype": "text/x-python",
   "name": "python",
   "nbconvert_exporter": "python",
   "pygments_lexer": "ipython3",
   "version": "3.6.5"
  }
 },
 "nbformat": 4,
 "nbformat_minor": 2
}
